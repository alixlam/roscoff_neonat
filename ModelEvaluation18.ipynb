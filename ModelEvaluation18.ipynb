{
 "cells": [
  {
   "cell_type": "code",
   "execution_count": 36,
   "metadata": {},
   "outputs": [],
   "source": [
    "import pandas as pd\n",
    "import numpy as np\n",
    "import torch\n",
    "import sklearn.model_selection as skms\n",
    "import os\n",
    "import sklearn as skl"
   ]
  },
  {
   "cell_type": "code",
   "execution_count": null,
   "metadata": {},
   "outputs": [],
   "source": [
    "path = \"/home/alexb/roscoff_neonat/TensorFormatFolds/bipolar_18/\"\n",
    "folds = os.listdir(path)"
   ]
  },
  {
   "cell_type": "code",
   "execution_count": 42,
   "metadata": {},
   "outputs": [],
   "source": [
    "train = []\n",
    "test = []\n",
    "for i in range(5):\n",
    "    test.append(torch.load(path + \"test_fold_\" + str(i) + \".pt\"))\n",
    "    train.append(torch.load(path + \"train_fold_\" + str(i) + \".pt\"))"
   ]
  },
  {
   "cell_type": "code",
   "execution_count": 51,
   "metadata": {},
   "outputs": [
    {
     "name": "stdout",
     "output_type": "stream",
     "text": [
      "Linear SVM\n",
      "Fold: 0\n",
      "train score:1.0\n",
      "test score:0.275\n",
      "Fold: 1\n",
      "train score:1.0\n",
      "test score:0.2833333333333333\n",
      "Fold: 2\n",
      "train score:0.9972222222222222\n",
      "test score:0.20833333333333334\n",
      "Fold: 3\n",
      "train score:0.9972222222222222\n",
      "test score:0.5416666666666666\n",
      "Fold: 4\n",
      "train score:1.0\n",
      "test score:0.525\n"
     ]
    }
   ],
   "source": [
    "print(\"Linear SVM\")\n",
    "for i in range(5):\n",
    "    x_train = train[i][0]\n",
    "    y_train = train[i][1]\n",
    "    x_test = test[i][0]\n",
    "    y_test = test[i][1]\n",
    "    \n",
    "    svmLinear = skl.svm.LinearSVC()\n",
    "    svmLinear.fit(x_train, y_train.ravel())\n",
    "    print(\"Fold: \" + str(i))\n",
    "    print(\"train score:\" + str(svmLinear.score(x_train, y_train)))\n",
    "    print(\"test score:\" +str(svmLinear.score(x_test, y_test)))"
   ]
  },
  {
   "cell_type": "code",
   "execution_count": 44,
   "metadata": {},
   "outputs": [
    {
     "name": "stdout",
     "output_type": "stream",
     "text": [
      "Decision Tree\n",
      "Fold: 0\n",
      "train score:1.0\n",
      "test score:0.2\n",
      "Fold: 1\n",
      "train score:1.0\n",
      "test score:0.38333333333333336\n",
      "Fold: 2\n",
      "train score:1.0\n",
      "test score:0.3\n",
      "Fold: 3\n",
      "train score:1.0\n",
      "test score:0.30833333333333335\n",
      "Fold: 4\n",
      "train score:1.0\n",
      "test score:0.325\n"
     ]
    }
   ],
   "source": [
    "print(\"Decision Tree\")\n",
    "for i in range(5):\n",
    "    x_train = train[i][0]\n",
    "    y_train = train[i][1]\n",
    "    x_test = test[i][0]\n",
    "    y_test = test[i][1]\n",
    "    \n",
    "    svmLinear = skl.tree.DecisionTreeClassifier()\n",
    "    svmLinear.fit(x_train, y_train.ravel())\n",
    "    print(\"Fold: \" + str(i))\n",
    "    print(\"train score:\" + str(svmLinear.score(x_train, y_train)))\n",
    "    print(\"test score:\" +str(svmLinear.score(x_test, y_test)))"
   ]
  },
  {
   "cell_type": "code",
   "execution_count": 45,
   "metadata": {},
   "outputs": [
    {
     "name": "stdout",
     "output_type": "stream",
     "text": [
      "Decision Tree\n",
      "Fold: 0\n",
      "train score:1.0\n",
      "test score:0.3\n",
      "Fold: 1\n",
      "train score:1.0\n",
      "test score:0.2916666666666667\n",
      "Fold: 2\n",
      "train score:1.0\n",
      "test score:0.375\n",
      "Fold: 3\n",
      "train score:1.0\n",
      "test score:0.4083333333333333\n",
      "Fold: 4\n",
      "train score:1.0\n",
      "test score:0.425\n"
     ]
    }
   ],
   "source": [
    "print(\"Extra Tree\")\n",
    "for i in range(5):\n",
    "    x_train = train[i][0]\n",
    "    y_train = train[i][1]\n",
    "    x_test = test[i][0]\n",
    "    y_test = test[i][1]\n",
    "    \n",
    "    svmLinear = skl.tree.ExtraTreeClassifier()\n",
    "    svmLinear.fit(x_train, y_train.ravel())\n",
    "    print(\"Fold: \" + str(i))\n",
    "    print(\"train score:\" + str(svmLinear.score(x_train, y_train)))\n",
    "    print(\"test score:\" +str(svmLinear.score(x_test, y_test)))"
   ]
  },
  {
   "cell_type": "code",
   "execution_count": 48,
   "metadata": {},
   "outputs": [
    {
     "name": "stdout",
     "output_type": "stream",
     "text": [
      "NN\n",
      "Fold: 0\n",
      "train score:1.0\n",
      "test score:0.325\n",
      "Fold: 1\n",
      "train score:1.0\n",
      "test score:0.36666666666666664\n",
      "Fold: 2\n",
      "train score:1.0\n",
      "test score:0.375\n",
      "Fold: 3\n",
      "train score:1.0\n",
      "test score:0.375\n",
      "Fold: 4\n",
      "train score:1.0\n",
      "test score:0.4\n"
     ]
    }
   ],
   "source": [
    "print(\"NN\")\n",
    "for i in range(5):\n",
    "    x_train = train[i][0]\n",
    "    y_train = train[i][1]\n",
    "    x_test = test[i][0]\n",
    "    y_test = test[i][1]\n",
    "    \n",
    "    svmLinear = skl.neural_network.MLPClassifier(hidden_layer_sizes = (100,50,25,20),max_iter=10000)\n",
    "    svmLinear.fit(x_train, y_train.ravel())\n",
    "    print(\"Fold: \" + str(i))\n",
    "    print(\"train score:\" + str(svmLinear.score(x_train, y_train)))\n",
    "    print(\"test score:\" +str(svmLinear.score(x_test, y_test)))"
   ]
  },
  {
   "cell_type": "code",
   "execution_count": 50,
   "metadata": {},
   "outputs": [
    {
     "name": "stdout",
     "output_type": "stream",
     "text": [
      "ADA Boost\n",
      "Fold: 0\n",
      "train score:0.675\n",
      "test score:0.25\n",
      "Fold: 1\n",
      "train score:0.7805555555555556\n",
      "test score:0.425\n",
      "Fold: 2\n",
      "train score:0.6944444444444444\n",
      "test score:0.36666666666666664\n",
      "Fold: 3\n",
      "train score:0.6611111111111111\n",
      "test score:0.3\n",
      "Fold: 4\n",
      "train score:0.6454545454545455\n",
      "test score:0.35\n"
     ]
    }
   ],
   "source": [
    "print(\"ADA Boost\")\n",
    "for i in range(5):\n",
    "    x_train = train[i][0]\n",
    "    y_train = train[i][1]\n",
    "    x_test = test[i][0]\n",
    "    y_test = test[i][1]\n",
    "    \n",
    "    svmLinear = skl.ensemble.AdaBoostClassifier()\n",
    "    svmLinear.fit(x_train, y_train.ravel())\n",
    "    print(\"Fold: \" + str(i))\n",
    "    print(\"train score:\" + str(svmLinear.score(x_train, y_train)))\n",
    "    print(\"test score:\" +str(svmLinear.score(x_test, y_test)))"
   ]
  },
  {
   "cell_type": "code",
   "execution_count": null,
   "metadata": {},
   "outputs": [
    {
     "name": "stdout",
     "output_type": "stream",
     "text": [
      "GB\n",
      "Fold: 0\n",
      "train score:1.0\n",
      "test score:0.325\n",
      "Fold: 1\n",
      "train score:1.0\n",
      "test score:0.30833333333333335\n",
      "Fold: 2\n",
      "train score:1.0\n",
      "test score:0.38333333333333336\n",
      "Fold: 3\n",
      "train score:1.0\n",
      "test score:0.38333333333333336\n",
      "Fold: 4\n",
      "train score:1.0\n",
      "test score:0.35\n"
     ]
    }
   ],
   "source": [
    "\n",
    "print(\"GB\")\n",
    "for i in range(5):\n",
    "    x_train = train[i][0]\n",
    "    y_train = train[i][1]\n",
    "    x_test = test[i][0]\n",
    "    y_test = test[i][1]\n",
    "    \n",
    "    svmLinear = skl.ensemble.GradientBoostingClassifier()\n",
    "    svmLinear.fit(x_train, y_train.ravel())\n",
    "    print(\"Fold: \" + str(i))\n",
    "    print(\"train score:\" + str(svmLinear.score(x_train, y_train)))\n",
    "    print(\"test score:\" +str(svmLinear.score(x_test, y_test)))"
   ]
  },
  {
   "cell_type": "code",
   "execution_count": 53,
   "metadata": {},
   "outputs": [
    {
     "name": "stdout",
     "output_type": "stream",
     "text": [
      "GB\n",
      "Fold: 0\n",
      "train score:1.0\n",
      "test score:0.325\n",
      "Fold: 1\n",
      "train score:1.0\n",
      "test score:0.325\n",
      "Fold: 2\n",
      "train score:1.0\n",
      "test score:0.38333333333333336\n",
      "Fold: 3\n",
      "train score:1.0\n",
      "test score:0.36666666666666664\n",
      "Fold: 4\n",
      "train score:1.0\n",
      "test score:0.45\n"
     ]
    }
   ],
   "source": [
    "print(\"RF\")\n",
    "for i in range(5):\n",
    "    x_train = train[i][0]\n",
    "    y_train = train[i][1]\n",
    "    x_test = test[i][0]\n",
    "    y_test = test[i][1]\n",
    "    \n",
    "    svmLinear = skl.ensemble.RandomForestClassifier()\n",
    "    svmLinear.fit(x_train, y_train.ravel())\n",
    "    print(\"Fold: \" + str(i))\n",
    "    print(\"train score:\" + str(svmLinear.score(x_train, y_train)))\n",
    "    print(\"test score:\" +str(svmLinear.score(x_test, y_test)))"
   ]
  },
  {
   "cell_type": "code",
   "execution_count": 54,
   "metadata": {},
   "outputs": [
    {
     "name": "stdout",
     "output_type": "stream",
     "text": [
      "Kernal Ridge\n",
      "Fold: 0\n",
      "train score:0.8883143663406372\n",
      "test score:0.27331072092056274\n",
      "Fold: 1\n",
      "train score:0.9031265377998352\n",
      "test score:0.5017210245132446\n",
      "Fold: 2\n",
      "train score:0.872464120388031\n",
      "test score:0.33599913120269775\n",
      "Fold: 3\n",
      "train score:0.8735307455062866\n",
      "test score:0.4277716279029846\n",
      "Fold: 4\n",
      "train score:0.8842914700508118\n",
      "test score:0.4008445143699646\n"
     ]
    }
   ],
   "source": [
    "print(\"Kernal Ridge\")\n",
    "for i in range(5):\n",
    "    x_train = train[i][0]\n",
    "    y_train = train[i][1]\n",
    "    x_test = test[i][0]\n",
    "    y_test = test[i][1]\n",
    "    \n",
    "    svmLinear = skl.kernel_ridge.KernelRidge()\n",
    "    svmLinear.fit(x_train, y_train.ravel())\n",
    "    print(\"Fold: \" + str(i))\n",
    "    print(\"train score:\" + str(svmLinear.score(x_train, y_train)))\n",
    "    print(\"test score:\" +str(svmLinear.score(x_test, y_test)))"
   ]
  },
  {
   "cell_type": "code",
   "execution_count": 59,
   "metadata": {},
   "outputs": [
    {
     "name": "stdout",
     "output_type": "stream",
     "text": [
      "Ridge\n",
      "Fold: 0\n",
      "train score:0.98\n",
      "test score:0.3\n",
      "[[13  4  3  0]\n",
      " [ 6  2  8  4]\n",
      " [ 5 11  2  2]\n",
      " [ 1  1 11  7]]\n",
      "Fold: 1\n",
      "train score:0.9833333333333333\n",
      "test score:0.39166666666666666\n",
      "[[16 12  2  0]\n",
      " [ 5 15  7  3]\n",
      " [ 3  8  9 10]\n",
      " [ 1  0 22  7]]\n",
      "Fold: 2\n",
      "train score:0.9888888888888889\n",
      "test score:0.225\n",
      "[[15  2 12  1]\n",
      " [18  6  5  1]\n",
      " [ 6 15  2  7]\n",
      " [ 0  2 24  4]]\n",
      "Fold: 3\n",
      "train score:0.9694444444444444\n",
      "test score:0.5\n",
      "[[16 11  2  1]\n",
      " [ 5 12 12  1]\n",
      " [ 8  6 10  6]\n",
      " [ 0  5  3 22]]\n",
      "Fold: 4\n",
      "train score:0.9613636363636363\n",
      "test score:0.5\n",
      "[[ 1  8  1  0]\n",
      " [ 0 10  0  0]\n",
      " [ 1  4  2  3]\n",
      " [ 0  0  3  7]]\n"
     ]
    }
   ],
   "source": [
    "\n",
    "print(\"Ridge\")\n",
    "for i in range(5):\n",
    "    x_train = train[i][0]\n",
    "    y_train = train[i][1]\n",
    "    x_test = test[i][0]\n",
    "    y_test = test[i][1]\n",
    "    \n",
    "    svmLinear = skl.linear_model.RidgeClassifier()\n",
    "    svmLinear.fit(x_train, y_train.ravel())\n",
    "    print(\"Fold: \" + str(i))\n",
    "    print(\"train score:\" + str(svmLinear.score(x_train, y_train)))\n",
    "    print(\"test score:\" +str(svmLinear.score(x_test, y_test)))\n",
    "    p = svmLinear.predict(x_test)\n",
    "    print(skl.metrics.confusion_matrix(y_test, p))"
   ]
  }
 ],
 "metadata": {
  "kernelspec": {
   "display_name": "GRAMFC",
   "language": "python",
   "name": "python3"
  },
  "language_info": {
   "codemirror_mode": {
    "name": "ipython",
    "version": 3
   },
   "file_extension": ".py",
   "mimetype": "text/x-python",
   "name": "python",
   "nbconvert_exporter": "python",
   "pygments_lexer": "ipython3",
   "version": "3.12.8"
  }
 },
 "nbformat": 4,
 "nbformat_minor": 2
}
