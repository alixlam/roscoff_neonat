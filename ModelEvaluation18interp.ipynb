{
 "cells": [
  {
   "cell_type": "code",
   "execution_count": null,
   "metadata": {},
   "outputs": [],
   "source": [
    "import pandas as pds\n",
    "import numpy as np\n",
    "import torch\n",
    "import sklearn.model_selection as skms\n",
    "import os\n",
    "import sklearn as skl"
   ]
  },
  {
   "cell_type": "code",
   "execution_count": 2,
   "metadata": {},
   "outputs": [],
   "source": [
    "path = \"/home/alexb/roscoff_neonat/TensorFormatFolds/bipolar_18_interp/\"\n",
    "folds = os.listdir(path)"
   ]
  },
  {
   "cell_type": "code",
   "execution_count": 3,
   "metadata": {},
   "outputs": [],
   "source": [
    "train = []\n",
    "test = []\n",
    "for i in range(5):\n",
    "    test.append(torch.load(path + \"test_fold_\" + str(i) + \".pt\"))\n",
    "    train.append(torch.load(path + \"train_fold_\" + str(i) + \".pt\"))"
   ]
  },
  {
   "cell_type": "code",
   "execution_count": 4,
   "metadata": {},
   "outputs": [
    {
     "name": "stdout",
     "output_type": "stream",
     "text": [
      "Linear SVM\n",
      "Fold: 0\n",
      "train score:0.9975\n",
      "test score:0.35\n",
      "Fold: 1\n",
      "train score:1.0\n",
      "test score:0.425\n",
      "Fold: 2\n",
      "train score:1.0\n",
      "test score:0.31666666666666665\n",
      "Fold: 3\n",
      "train score:0.9888888888888889\n",
      "test score:0.45\n",
      "Fold: 4\n",
      "train score:0.9977272727272727\n",
      "test score:0.675\n"
     ]
    }
   ],
   "source": [
    "print(\"Linear SVM\")\n",
    "for i in range(5):\n",
    "    x_train = train[i][0]\n",
    "    y_train = train[i][1]\n",
    "    x_test = test[i][0]\n",
    "    y_test = test[i][1]\n",
    "    \n",
    "    svmLinear = skl.svm.LinearSVC()\n",
    "    svmLinear.fit(x_train, y_train.ravel())\n",
    "    print(\"Fold: \" + str(i))\n",
    "    print(\"train score:\" + str(svmLinear.score(x_train, y_train)))\n",
    "    print(\"test score:\" +str(svmLinear.score(x_test, y_test)))"
   ]
  },
  {
   "cell_type": "code",
   "execution_count": 5,
   "metadata": {},
   "outputs": [
    {
     "name": "stdout",
     "output_type": "stream",
     "text": [
      "Decision Tree\n",
      "Fold: 0\n",
      "train score:1.0\n",
      "test score:0.35\n",
      "Fold: 1\n",
      "train score:1.0\n",
      "test score:0.4083333333333333\n",
      "Fold: 2\n",
      "train score:1.0\n",
      "test score:0.3416666666666667\n",
      "Fold: 3\n",
      "train score:1.0\n",
      "test score:0.4666666666666667\n",
      "Fold: 4\n",
      "train score:1.0\n",
      "test score:0.275\n"
     ]
    }
   ],
   "source": [
    "print(\"Decision Tree\")\n",
    "for i in range(5):\n",
    "    x_train = train[i][0]\n",
    "    y_train = train[i][1]\n",
    "    x_test = test[i][0]\n",
    "    y_test = test[i][1]\n",
    "    \n",
    "    svmLinear = skl.tree.DecisionTreeClassifier()\n",
    "    svmLinear.fit(x_train, y_train.ravel())\n",
    "    print(\"Fold: \" + str(i))\n",
    "    print(\"train score:\" + str(svmLinear.score(x_train, y_train)))\n",
    "    print(\"test score:\" +str(svmLinear.score(x_test, y_test)))"
   ]
  },
  {
   "cell_type": "code",
   "execution_count": 6,
   "metadata": {},
   "outputs": [
    {
     "name": "stdout",
     "output_type": "stream",
     "text": [
      "Extra Tree\n",
      "Fold: 0\n",
      "train score:1.0\n",
      "test score:0.3625\n",
      "Fold: 1\n",
      "train score:1.0\n",
      "test score:0.425\n",
      "Fold: 2\n",
      "train score:1.0\n",
      "test score:0.26666666666666666\n",
      "Fold: 3\n",
      "train score:1.0\n",
      "test score:0.3333333333333333\n",
      "Fold: 4\n",
      "train score:1.0\n",
      "test score:0.35\n"
     ]
    }
   ],
   "source": [
    "print(\"Extra Tree\")\n",
    "for i in range(5):\n",
    "    x_train = train[i][0]\n",
    "    y_train = train[i][1]\n",
    "    x_test = test[i][0]\n",
    "    y_test = test[i][1]\n",
    "    \n",
    "    svmLinear = skl.tree.ExtraTreeClassifier()\n",
    "    svmLinear.fit(x_train, y_train.ravel())\n",
    "    print(\"Fold: \" + str(i))\n",
    "    print(\"train score:\" + str(svmLinear.score(x_train, y_train)))\n",
    "    print(\"test score:\" +str(svmLinear.score(x_test, y_test)))"
   ]
  },
  {
   "cell_type": "code",
   "execution_count": 7,
   "metadata": {},
   "outputs": [
    {
     "name": "stdout",
     "output_type": "stream",
     "text": [
      "NN\n",
      "Fold: 0\n",
      "train score:1.0\n",
      "test score:0.3\n",
      "Fold: 1\n",
      "train score:1.0\n",
      "test score:0.38333333333333336\n",
      "Fold: 2\n",
      "train score:1.0\n",
      "test score:0.26666666666666666\n",
      "Fold: 3\n",
      "train score:1.0\n",
      "test score:0.4166666666666667\n",
      "Fold: 4\n",
      "train score:1.0\n",
      "test score:0.475\n"
     ]
    }
   ],
   "source": [
    "print(\"NN\")\n",
    "for i in range(5):\n",
    "    x_train = train[i][0]\n",
    "    y_train = train[i][1]\n",
    "    x_test = test[i][0]\n",
    "    y_test = test[i][1]\n",
    "    \n",
    "    svmLinear = skl.neural_network.MLPClassifier(hidden_layer_sizes = (100,50,25,20),max_iter=10000)\n",
    "    svmLinear.fit(x_train, y_train.ravel())\n",
    "    print(\"Fold: \" + str(i))\n",
    "    print(\"train score:\" + str(svmLinear.score(x_train, y_train)))\n",
    "    print(\"test score:\" +str(svmLinear.score(x_test, y_test)))"
   ]
  },
  {
   "cell_type": "code",
   "execution_count": 8,
   "metadata": {},
   "outputs": [
    {
     "name": "stdout",
     "output_type": "stream",
     "text": [
      "ADA Boost\n",
      "Fold: 0\n",
      "train score:0.725\n",
      "test score:0.4\n",
      "Fold: 1\n",
      "train score:0.6972222222222222\n",
      "test score:0.3\n",
      "Fold: 2\n",
      "train score:0.675\n",
      "test score:0.25833333333333336\n",
      "Fold: 3\n",
      "train score:0.6694444444444444\n",
      "test score:0.45\n",
      "Fold: 4\n",
      "train score:0.6727272727272727\n",
      "test score:0.5\n"
     ]
    }
   ],
   "source": [
    "print(\"ADA Boost\")\n",
    "for i in range(5):\n",
    "    x_train = train[i][0]\n",
    "    y_train = train[i][1]\n",
    "    x_test = test[i][0]\n",
    "    y_test = test[i][1]\n",
    "    \n",
    "    svmLinear = skl.ensemble.AdaBoostClassifier()\n",
    "    svmLinear.fit(x_train, y_train.ravel())\n",
    "    print(\"Fold: \" + str(i))\n",
    "    print(\"train score:\" + str(svmLinear.score(x_train, y_train)))\n",
    "    print(\"test score:\" +str(svmLinear.score(x_test, y_test)))"
   ]
  },
  {
   "cell_type": "code",
   "execution_count": 9,
   "metadata": {},
   "outputs": [
    {
     "name": "stdout",
     "output_type": "stream",
     "text": [
      "GB\n",
      "Fold: 0\n",
      "train score:1.0\n",
      "test score:0.3125\n",
      "Fold: 1\n",
      "train score:1.0\n",
      "test score:0.38333333333333336\n",
      "Fold: 2\n",
      "train score:1.0\n",
      "test score:0.3\n",
      "Fold: 3\n",
      "train score:1.0\n",
      "test score:0.49166666666666664\n",
      "Fold: 4\n",
      "train score:1.0\n",
      "test score:0.575\n"
     ]
    }
   ],
   "source": [
    "print(\"GB\")\n",
    "for i in range(5):\n",
    "    x_train = train[i][0]\n",
    "    y_train = train[i][1]\n",
    "    x_test = test[i][0]\n",
    "    y_test = test[i][1]\n",
    "    \n",
    "    svmLinear = skl.ensemble.GradientBoostingClassifier()\n",
    "    svmLinear.fit(x_train, y_train.ravel())\n",
    "    print(\"Fold: \" + str(i))\n",
    "    print(\"train score:\" + str(svmLinear.score(x_train, y_train)))\n",
    "    print(\"test score:\" +str(svmLinear.score(x_test, y_test)))"
   ]
  },
  {
   "cell_type": "code",
   "execution_count": 10,
   "metadata": {},
   "outputs": [
    {
     "name": "stdout",
     "output_type": "stream",
     "text": [
      "RF\n",
      "Fold: 0\n",
      "train score:1.0\n",
      "test score:0.3375\n",
      "Fold: 1\n",
      "train score:1.0\n",
      "test score:0.44166666666666665\n",
      "Fold: 2\n",
      "train score:1.0\n",
      "test score:0.25\n",
      "Fold: 3\n",
      "train score:1.0\n",
      "test score:0.35833333333333334\n",
      "Fold: 4\n",
      "train score:1.0\n",
      "test score:0.5\n"
     ]
    }
   ],
   "source": [
    "print(\"RF\")\n",
    "for i in range(5):\n",
    "    x_train = train[i][0]\n",
    "    y_train = train[i][1]\n",
    "    x_test = test[i][0]\n",
    "    y_test = test[i][1]\n",
    "    \n",
    "    svmLinear = skl.ensemble.RandomForestClassifier()\n",
    "    svmLinear.fit(x_train, y_train.ravel())\n",
    "    print(\"Fold: \" + str(i))\n",
    "    print(\"train score:\" + str(svmLinear.score(x_train, y_train)))\n",
    "    print(\"test score:\" +str(svmLinear.score(x_test, y_test)))"
   ]
  },
  {
   "cell_type": "code",
   "execution_count": 11,
   "metadata": {},
   "outputs": [
    {
     "name": "stdout",
     "output_type": "stream",
     "text": [
      "Kernal Ridge\n",
      "Fold: 0\n",
      "train score:0.8781644701957703\n",
      "test score:0.15064841508865356\n",
      "Fold: 1\n",
      "train score:0.8743085265159607\n",
      "test score:0.15442383289337158\n",
      "Fold: 2\n",
      "train score:0.869037389755249\n",
      "test score:-0.029153823852539062\n",
      "Fold: 3\n",
      "train score:0.8606775999069214\n",
      "test score:0.15268689393997192\n",
      "Fold: 4\n",
      "train score:0.865740954875946\n",
      "test score:0.4266095757484436\n"
     ]
    }
   ],
   "source": [
    "print(\"Kernal Ridge\")\n",
    "for i in range(5):\n",
    "    x_train = train[i][0]\n",
    "    y_train = train[i][1]\n",
    "    x_test = test[i][0]\n",
    "    y_test = test[i][1]\n",
    "    \n",
    "    svmLinear = skl.kernel_ridge.KernelRidge()\n",
    "    svmLinear.fit(x_train, y_train.ravel())\n",
    "    print(\"Fold: \" + str(i))\n",
    "    print(\"train score:\" + str(svmLinear.score(x_train, y_train)))\n",
    "    print(\"test score:\" +str(svmLinear.score(x_test, y_test)))"
   ]
  },
  {
   "cell_type": "code",
   "execution_count": 12,
   "metadata": {},
   "outputs": [
    {
     "name": "stdout",
     "output_type": "stream",
     "text": [
      "Ridge\n",
      "Fold: 0\n",
      "train score:0.9675\n",
      "test score:0.35\n",
      "Fold: 1\n",
      "train score:0.9861111111111112\n",
      "test score:0.425\n",
      "Fold: 2\n",
      "train score:0.9888888888888889\n",
      "test score:0.3\n",
      "Fold: 3\n",
      "train score:0.9611111111111111\n",
      "test score:0.45\n",
      "Fold: 4\n",
      "train score:0.9727272727272728\n",
      "test score:0.675\n"
     ]
    }
   ],
   "source": [
    "print(\"Ridge\")\n",
    "for i in range(5):\n",
    "    x_train = train[i][0]\n",
    "    y_train = train[i][1]\n",
    "    x_test = test[i][0]\n",
    "    y_test = test[i][1]\n",
    "    \n",
    "    svmLinear = skl.linear_model.RidgeClassifier()\n",
    "    svmLinear.fit(x_train, y_train.ravel())\n",
    "    print(\"Fold: \" + str(i))\n",
    "    print(\"train score:\" + str(svmLinear.score(x_train, y_train)))\n",
    "    print(\"test score:\" +str(svmLinear.score(x_test, y_test)))"
   ]
  }
 ],
 "metadata": {
  "kernelspec": {
   "display_name": "GRAMFC",
   "language": "python",
   "name": "python3"
  },
  "language_info": {
   "codemirror_mode": {
    "name": "ipython",
    "version": 3
   },
   "file_extension": ".py",
   "mimetype": "text/x-python",
   "name": "python",
   "nbconvert_exporter": "python",
   "pygments_lexer": "ipython3",
   "version": "3.12.8"
  }
 },
 "nbformat": 4,
 "nbformat_minor": 2
}
