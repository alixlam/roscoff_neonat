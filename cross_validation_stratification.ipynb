{
 "cells": [
  {
   "cell_type": "code",
   "execution_count": 29,
   "metadata": {},
   "outputs": [],
   "source": [
    "# Generate cross validation splits for the dataset\n",
    "# The dataset is split into 5 folds, with each fold containing the same distribution of classes as the original dataset\n",
    "\n",
    "\n",
    "from iterstrat.ml_stratifiers import MultilabelStratifiedKFold\n",
    "import numpy as np\n",
    "import pandas as pd\n",
    "\n",
    "# import metadata file\n",
    "metadata = pd.read_csv('metadata.csv')\n",
    "NUM_CLASSES=4\n",
    "\n",
    "#extract the column 'baby_ID' and 'grade' from the metadata file\n",
    "subjects = metadata['baby_ID'].values\n",
    "labels = metadata['grade'].values   \n"
   ]
  },
  {
   "cell_type": "code",
   "execution_count": 30,
   "metadata": {},
   "outputs": [],
   "source": [
    "# Create a dataframe for convenience\n",
    "subject_labels_df = pd.crosstab(metadata['baby_ID'], metadata['grade'])\n",
    "subject_ids = subject_labels_df.index.to_numpy()\n",
    "subject_labels = subject_labels_df.to_numpy()"
   ]
  },
  {
   "cell_type": "code",
   "execution_count": 31,
   "metadata": {},
   "outputs": [],
   "source": [
    "# Apply stratification over subject-level labels\n",
    "mskf = MultilabelStratifiedKFold(n_splits=5, shuffle=True, random_state=42)\n",
    "\n",
    "# Create a dictionary to store the folds with the label counts\n",
    "folds = {}\n",
    "\n",
    "\n",
    "for fold, (train_idx, test_idx) in enumerate(mskf.split(subject_ids, subject_labels)):\n",
    "    train_subjects = subject_ids[train_idx]\n",
    "    test_subjects = subject_ids[test_idx]\n",
    "    \n",
    "    # count the number of samples per class in the training and test sets of the mskf split\n",
    "    grade_count_train = subject_labels_df.loc[train_subjects].sum()\n",
    "    grade_count_test = subject_labels_df.loc[test_subjects].sum()\n",
    "    \n",
    "    folds[fold] = {\n",
    "        \"train\": train_subjects,\n",
    "        \"test\": test_subjects,\n",
    "        \"train_label_counts\": grade_count_train.to_numpy(),\n",
    "        \"test_label_counts\": grade_count_test.to_numpy()    \n",
    "    }\n",
    "    \n",
    "\n",
    "# Save the folds to a file\n",
    "np.save(\"5_folds_cross_validation.npy\", folds)"
   ]
  },
  {
   "cell_type": "markdown",
   "metadata": {},
   "source": [
    "### Visualize the folds and class counts"
   ]
  },
  {
   "cell_type": "code",
   "execution_count": null,
   "metadata": {},
   "outputs": [],
   "source": [
    "# Print folds to check\n",
    "\n",
    "for fold, (train_idx, test_idx) in enumerate(mskf.split(subject_ids, subject_labels)):\n",
    "    train_subjects = subject_ids[train_idx]\n",
    "    test_subjects = subject_ids[test_idx]\n",
    "    \n",
    "    print(f\"Fold {fold + 1}\")\n",
    "    print(\"Train subjects:\", train_subjects)\n",
    "    print(\"Test subjects:\", test_subjects)\n",
    "    \n",
    "    # count the number of samples per class in the training and test sets of the mskf split\n",
    "    grade_count_train = subject_labels_df.loc[train_subjects].sum()\n",
    "\n",
    "    grade_count_test = subject_labels_df.loc[test_subjects].sum()\n",
    "\n",
    "    print(\"Train labels:\", grade_count_train)\n",
    "    print(\"Test labels:\", grade_count_train)"
   ]
  },
  {
   "cell_type": "code",
   "execution_count": 32,
   "metadata": {},
   "outputs": [
    {
     "name": "stdout",
     "output_type": "stream",
     "text": [
      "Fold 1\n",
      "Train subjects: ['ID01' 'ID02' 'ID04' 'ID05' 'ID06' 'ID07' 'ID08' 'ID09' 'ID10' 'ID11'\n",
      " 'ID12' 'ID13' 'ID14' 'ID15' 'ID16' 'ID17' 'ID18' 'ID19' 'ID21' 'ID22'\n",
      " 'ID24' 'ID25' 'ID26' 'ID27' 'ID28' 'ID32' 'ID33' 'ID35' 'ID36' 'ID38'\n",
      " 'ID40' 'ID41' 'ID42' 'ID43' 'ID45' 'ID46' 'ID47' 'ID48' 'ID49' 'ID50'\n",
      " 'ID51' 'ID52' 'ID53']\n",
      "Test subjects: ['ID03' 'ID20' 'ID23' 'ID29' 'ID30' 'ID31' 'ID34' 'ID37' 'ID39' 'ID44']\n",
      "Train labels: [79 25 18 10]\n",
      "Test labels: [25  6  4  2]\n"
     ]
    }
   ],
   "source": [
    "# load folds file and print first fold information\n",
    "folds = np.load(\"5_folds_cross_validation.npy\", allow_pickle=True).item()\n",
    "fold = 0\n",
    "print(f\"Fold {fold + 1}\")\n",
    "print(\"Train subjects:\", folds[fold][\"train\"])\n",
    "print(\"Test subjects:\", folds[fold][\"test\"])\n",
    "print(\"Train labels:\", folds[fold][\"train_label_counts\"])\n",
    "print(\"Test labels:\", folds[fold][\"test_label_counts\"])\n",
    "\n"
   ]
  },
  {
   "cell_type": "markdown",
   "metadata": {},
   "source": []
  }
 ],
 "metadata": {
  "kernelspec": {
   "display_name": "base",
   "language": "python",
   "name": "python3"
  },
  "language_info": {
   "codemirror_mode": {
    "name": "ipython",
    "version": 3
   },
   "file_extension": ".py",
   "mimetype": "text/x-python",
   "name": "python",
   "nbconvert_exporter": "python",
   "pygments_lexer": "ipython3",
   "version": "3.11.4"
  }
 },
 "nbformat": 4,
 "nbformat_minor": 2
}
